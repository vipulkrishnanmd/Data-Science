{
 "cells": [
  {
   "cell_type": "markdown",
   "metadata": {},
   "source": [
    "# FIT5196 Assessment 1 Task 1 Extract Data from an Excel File\n",
    "\n",
    "#### Student Name: Vipul Krishnan M.D.\n",
    "#### Student ID: 28104641\n",
    "\n",
    "Date: 02/04/2018\n",
    "\n",
    "Version: 1.0\n",
    "\n",
    "Environment: Python 3.6.0 and Anaconda 4.3.0 (64-bit)\n",
    "\n",
    "Libraries used:\n",
    "* pandas (version 0.20.1)"
   ]
  },
  {
   "cell_type": "markdown",
   "metadata": {},
   "source": [
    "## 1. Introduction\n",
    "This task is to extract the Basic Indicators table from an Excel file, basic_indicators.xlsx, and save the table in a CSV file.\n",
    "In order to finish this task,\n",
    "\n",
    "* The table has to be parsed and extracted correctly\n",
    "* Existing Python packages can be used\n",
    "* It is not required to extract the column labels. Except for the first column, which should be named with \"Country Name\", the other columns should be indexed with integers.\n",
    "* The extracted data must be saved in a CSV file named as \"basic_indicators.csv\"\n",
    "* The input file must only be given \"basic_indicators.xlsx\"."
   ]
  },
  {
   "cell_type": "markdown",
   "metadata": {},
   "source": [
    "## 2. Import Libraries"
   ]
  },
  {
   "cell_type": "code",
   "execution_count": null,
   "metadata": {
    "collapsed": true
   },
   "outputs": [],
   "source": [
    "import pandas as pd"
   ]
  },
  {
   "cell_type": "markdown",
   "metadata": {},
   "source": [
    "## 3. Loading Data from File\n",
    "The data is in basic_indicators.xlsx file. Pandas 'read_excel' method can be used for easily loading data from excel file. (Williems 2018) (Lynn, 2017)"
   ]
  },
  {
   "cell_type": "code",
   "execution_count": null,
   "metadata": {
    "collapsed": true
   },
   "outputs": [],
   "source": [
    "df = pd.read_excel(\"basic_indicators.xlsx\", dtype = str, header=None) # reading the data"
   ]
  },
  {
   "cell_type": "markdown",
   "metadata": {},
   "source": [
    "## 4. Analysing and Extracting Data\n",
    "To get an overview, the data is just printed."
   ]
  },
  {
   "cell_type": "code",
   "execution_count": null,
   "metadata": {},
   "outputs": [],
   "source": [
    "df # printing the data"
   ]
  },
  {
   "cell_type": "markdown",
   "metadata": {},
   "source": [
    "Clearly there are some unnecessary rows in the fist and last portion of the data frame. To know the required range of rows and columns, we can just print the dataframe completely (Lynn, 2017)"
   ]
  },
  {
   "cell_type": "code",
   "execution_count": null,
   "metadata": {},
   "outputs": [],
   "source": [
    "with pd.option_context('display.max_rows', None, 'display.max_columns', None):\n",
    "    print(df) # printing dataframe completely"
   ]
  },
  {
   "cell_type": "markdown",
   "metadata": {},
   "source": [
    "So the relevant data extends from 7th row up to 208th row and 2nd column to 17th column. We can select only this portion. Also the 16th column (column no 15) is not required as it contains only 'nan' values."
   ]
  },
  {
   "cell_type": "code",
   "execution_count": null,
   "metadata": {
    "collapsed": true
   },
   "outputs": [],
   "source": [
    "df = df[6:208] # selecting required rows only\n",
    "df = df[df.columns[1:17]] # selecting required columns only\n",
    "df = df.drop(15, 1) # removing unnecessary column"
   ]
  },
  {
   "cell_type": "markdown",
   "metadata": {},
   "source": [
    "Now we need to rename the columns(as in the question figure) and re-index the rows"
   ]
  },
  {
   "cell_type": "code",
   "execution_count": null,
   "metadata": {
    "collapsed": true
   },
   "outputs": [],
   "source": [
    "df.columns=['Country Name',] +list(range(0,14)) # renaming the rows\n",
    "df = df.reset_index(drop=True) # re-indexing the rows"
   ]
  },
  {
   "cell_type": "markdown",
   "metadata": {},
   "source": [
    "Also the dataframe contains a lot of '-'. This represents the missing values and we have to make it just blank. So we replace '-' with empty string"
   ]
  },
  {
   "cell_type": "code",
   "execution_count": null,
   "metadata": {
    "collapsed": true
   },
   "outputs": [],
   "source": [
    "df = df.replace('–','') # removing -"
   ]
  },
  {
   "cell_type": "markdown",
   "metadata": {},
   "source": [
    "Now we check the dataframe"
   ]
  },
  {
   "cell_type": "code",
   "execution_count": null,
   "metadata": {},
   "outputs": [],
   "source": [
    "df"
   ]
  },
  {
   "cell_type": "markdown",
   "metadata": {},
   "source": [
    "We have to make all the numbers rounded and without any decimal points. This can be done by converting data type to float and then converting back after rounding off."
   ]
  },
  {
   "cell_type": "code",
   "execution_count": null,
   "metadata": {},
   "outputs": [],
   "source": [
    "# the below code converts the numbers to float, rounds off, convert back to string and strips off uncecessary parts.\n",
    "df = df.convert_objects(convert_numeric=True).round(0).applymap(str).applymap(lambda x: x.split('.')[0]).applymap(lambda x: '' if x=='nan' else x)"
   ]
  },
  {
   "cell_type": "markdown",
   "metadata": {},
   "source": [
    "Now we can check the table again"
   ]
  },
  {
   "cell_type": "code",
   "execution_count": null,
   "metadata": {},
   "outputs": [],
   "source": [
    "df"
   ]
  },
  {
   "cell_type": "markdown",
   "metadata": {},
   "source": [
    "Everything seems to be good."
   ]
  },
  {
   "cell_type": "markdown",
   "metadata": {},
   "source": [
    "## 5. Writing Data to the Output CSV File\n",
    "Now our data has to be written in the \"basic_indicators.csv\" file"
   ]
  },
  {
   "cell_type": "code",
   "execution_count": null,
   "metadata": {
    "collapsed": true
   },
   "outputs": [],
   "source": [
    "df.to_csv(\"basic_indicators.csv\", index=False) # writing to file. index = file says we dont need the column and row index while writing"
   ]
  },
  {
   "cell_type": "markdown",
   "metadata": {},
   "source": [
    "## 6. Summary\n",
    "This task reads data from an excel file, analyse and extract only required portion of the data and write it to a csv file.\n",
    "\n",
    "* Import data from 'basic_indicators.xlsx' file using read_csv function from pandas\n",
    "* Analyse and extract data using pandas DataFrame operations\n",
    "* Write the data to the basic_indicators.csv file using pandas DataFrame.to_csv() method"
   ]
  },
  {
   "cell_type": "markdown",
   "metadata": {},
   "source": [
    "## 7. References"
   ]
  },
  {
   "cell_type": "markdown",
   "metadata": {
    "collapsed": true
   },
   "source": [
    "- Pandas. (2017). Retrieved from https://pandas.pydata.org/\n",
    "- Williems K. (2018, February 23) *Pandas Tutorial: DataFrames in Python*. Retrieved from https://www.datacamp.com/community/tutorials/pandas-tutorial-dataframe-python\n",
    "- Lynn S. (2017, December 13). *The Pandas DataFrame – loading, editing, and viewing data in Python*. Retrieved from https://www.shanelynn.ie/using-pandas-dataframe-creating-editing-viewing-data-in-python/"
   ]
  },
  {
   "cell_type": "code",
   "execution_count": null,
   "metadata": {
    "collapsed": true
   },
   "outputs": [],
   "source": []
  }
 ],
 "metadata": {
  "kernelspec": {
   "display_name": "Python 3",
   "language": "python",
   "name": "python3"
  },
  "language_info": {
   "codemirror_mode": {
    "name": "ipython",
    "version": 3
   },
   "file_extension": ".py",
   "mimetype": "text/x-python",
   "name": "python",
   "nbconvert_exporter": "python",
   "pygments_lexer": "ipython3",
   "version": "3.6.1"
  }
 },
 "nbformat": 4,
 "nbformat_minor": 2
}
