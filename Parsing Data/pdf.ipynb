{
 "cells": [
  {
   "cell_type": "markdown",
   "metadata": {},
   "source": [
    "# FIT5196 Assessment 1 Task 2 Extract Data from a PDF File\n",
    "\n",
    "#### Student Name: Vipul Krishnan M.D.\n",
    "#### Student ID: 28104641\n",
    "\n",
    "Date: 02/04/2018\n",
    "\n",
    "Version: 1.0\n",
    "\n",
    "Environment: Python 3.6.0 and Anaconda 4.3.0 (64-bit)\n",
    "\n",
    "Libraries used:\n",
    "* pandas (version 0.20.1)\n",
    "* pdftables (version 0.0.5) (Need only get_tables function)\n",
    "* re (version 2.2.1)\n",
    "\n",
    "External Files:\n",
    "* pdf2txt.py"
   ]
  },
  {
   "cell_type": "markdown",
   "metadata": {},
   "source": [
    "## 1. Introduction\n",
    "The PDF file, \"health.pdf\", contains the children's health data over 202 countries in the world. The table spreads over four pages. The task is to extract the table and save them in a CSV file. In order to finish the task\n",
    "\n",
    "* The tables has to be correctly parsed\n",
    "* If the number followed by a character \"x\" in the pdf file,  \"x\" must be dropped in your script\n",
    "* The extracted table should be saved in a CSV file named as \"health.csv\"\n",
    "* The input file must only be \"health.pdf\"."
   ]
  },
  {
   "cell_type": "markdown",
   "metadata": {},
   "source": [
    "## 2. Import Libraries"
   ]
  },
  {
   "cell_type": "code",
   "execution_count": null,
   "metadata": {
    "collapsed": true
   },
   "outputs": [],
   "source": [
    "from pdftables import get_tables\n",
    "import re\n",
    "import pandas as pd"
   ]
  },
  {
   "cell_type": "markdown",
   "metadata": {},
   "source": [
    "## 3. Importing Data from PDF file"
   ]
  },
  {
   "cell_type": "markdown",
   "metadata": {},
   "source": [
    "We import data using two different ways. The first one is using the library- pdftables (Hopkinson I., 2013), and the second one is using an external file pdf pdf2text.py (PDFMiner, 2016), which comes with the pdfminer package (PDFMiner, 2016).\n",
    "\n",
    "Although pdftables obtains all the values in a table format, some of the rows may be merged and we have to sperate manually. Sometimes we may not be able to find where to split exactly. For example, if there is a value 234 and we know that it is a merge between two numbers, it can be 23,4 or 2,34. In those cases we use the text obtained from the pdf2text.py as a reference.\n",
    "\n",
    "### 3.1 Using pdftables "
   ]
  },
  {
   "cell_type": "code",
   "execution_count": null,
   "metadata": {
    "collapsed": true
   },
   "outputs": [],
   "source": [
    "pdfFile = 'health.pdf' # declaring input file name\n",
    "pdfobj = open(pdfFile, 'rb') # creating file object \n",
    "tables = get_tables(pdfobj) # extracting tables from the file object using the function from pdftables"
   ]
  },
  {
   "cell_type": "markdown",
   "metadata": {},
   "source": [
    "To get the priliminary idea of the data, we can just print all the extracted tables"
   ]
  },
  {
   "cell_type": "code",
   "execution_count": null,
   "metadata": {},
   "outputs": [],
   "source": [
    "for table in tables: # for each extracted table\n",
    "    for row in table: # for rach row in the table\n",
    "        print(row) # print the row\n",
    "    print('==========================\\n') # table seperator"
   ]
  },
  {
   "cell_type": "markdown",
   "metadata": {},
   "source": [
    "### 3.2 Using pdf2text.py"
   ]
  },
  {
   "cell_type": "markdown",
   "metadata": {},
   "source": [
    "We can use pdf2txt.py as below (UnixUser.org, 2014)"
   ]
  },
  {
   "cell_type": "code",
   "execution_count": null,
   "metadata": {
    "collapsed": true
   },
   "outputs": [],
   "source": [
    "# using the external file pdf2txt.py for extracting text from health.pdf to a file tables.txt\n",
    "!pdf2txt.py -o tables.txt health.pdf"
   ]
  },
  {
   "cell_type": "markdown",
   "metadata": {},
   "source": [
    "Now we copy the text line by line from the file and store as a list for searching in it easily"
   ]
  },
  {
   "cell_type": "code",
   "execution_count": null,
   "metadata": {},
   "outputs": [],
   "source": [
    "pdfTxtFile = './tables.txt'\n",
    "pdf_txt = open(pdfTxtFile, 'r') # openinng the file in read mode\n",
    "\n",
    "linelist = [] # creating an empty list\n",
    "\n",
    "# loop over all the lines...\n",
    "for line in pdf_txt:\n",
    "    linelist.append(repr(line)) # and add each line to list\n",
    "\n",
    "print(linelist)"
   ]
  },
  {
   "cell_type": "markdown",
   "metadata": {},
   "source": [
    "The data is not clean and not useful for any extraction purpose unless it is cleaned. But as we just need to confirm the values, we dont need to spend time for cleaning it."
   ]
  },
  {
   "cell_type": "markdown",
   "metadata": {},
   "source": [
    "## 4. Data Analysis and Extraction\n",
    "From the above printed data, we can see that for each table, the required portion extends at most from 6th row to second last row. (The last table is an exception. We can extract it later). So we can print rows omly from index 5 to -2"
   ]
  },
  {
   "cell_type": "code",
   "execution_count": null,
   "metadata": {},
   "outputs": [],
   "source": [
    "for table in tables: # for each extracted table\n",
    "    for row in table[5:-2]: # for rach row from 6th to second last in the table\n",
    "        print(row) # print the row\n",
    "    print('==========================\\n') # table seperator"
   ]
  },
  {
   "cell_type": "markdown",
   "metadata": {},
   "source": [
    "### 4.1 Extracting Tables\n",
    "Looking at the table-1, the only major peoblem is the merged 5th and 6th columns (column index 4 and 5). We need some code to seperate these columns. As there are similar stuations in the other tables also, we can write this code as a function for reusability. PFB the function. The details are given below the function"
   ]
  },
  {
   "cell_type": "code",
   "execution_count": null,
   "metadata": {
    "collapsed": true
   },
   "outputs": [],
   "source": [
    "# Helper function for seperating merged 2 columns\n",
    "# Only applicable for tables with only two rows merged together and rest all good\n",
    "def helperfun1(row, cnum):\n",
    "    # arguments 1. The actual row in the extracted table, 2. The index of the first merged column\n",
    "    \n",
    "    new_row = [] # creating an empty row for result\n",
    "    \n",
    "    for j in range(len(row)):\n",
    "        if j == cnum: #act only for the merged column. else just add the existing values (else condition at bottom)\n",
    "            \n",
    "            if (len(row[j]) == 4) & (row[j][:3] != '100') & (row[j][-3:] != '100'): # if the merged length is 4 and no 100\n",
    "                # then just split the 4 digit value to 2 two digit values\n",
    "                new_row.append(row[j][:2])\n",
    "                new_row.append(row[j][2:])\n",
    "                \n",
    "            elif (len(row[j]) == 4) & (row[j][:3] == '100'): # if 4 digits with a leading 100\n",
    "                new_row.append(row[j][:2]) # add the 100 first\n",
    "                new_row.append(row[j][-1]) # add the last digit as a seperate value\n",
    "                \n",
    "            elif (len(row[j]) == 4) & (row[j][-3:] == '100'): # if 4 digits with a trailing 100\n",
    "                new_row.append(row[j][1]) # add the first digit as a single value\n",
    "                new_row.append(row[j][-3:]) # then add the 100\n",
    "                \n",
    "            elif len(row[j]) == 6: # if 6 digits. This happens only in the case of 100100\n",
    "                # add two 100s\n",
    "                new_row.append(100)\n",
    "                new_row.append(100)\n",
    "                \n",
    "            elif (len(row[j]) == 3) and ('–' in row[j]): # 3 digit with a -\n",
    "                if row[j][0] == '–': # - is at first\n",
    "                    new_row.append('–') # add - first\n",
    "                    new_row.append(row[j][1:]) # add last two digits as a single value \n",
    "                else: # - is at last \n",
    "                    new_row.append(row[j][:2]) # add the first two digits as a single number\n",
    "                    new_row.append('–') # add -\n",
    "                    \n",
    "            elif (len(row[j]) == 3): # if the length is 3 without -\n",
    "                \n",
    "                # The below code splits the 3 digits into two values by making the difference between them least. \n",
    "                # Assumes there exists some correlation between these values and this assumption seems to be holding good\n",
    "                # The values obtained is tested using the pdftotext.py approach and it holds good\n",
    "                \n",
    "                if (int(row[j][1:]) - int(row[j][0])) < (int(row[j][:2]) - int(row[j][-1])):\n",
    "                    new_row.append(row[j][0])\n",
    "                    new_row.append(row[j][1:])\n",
    "                \n",
    "                else:\n",
    "                    new_row.append(row[j][:2])\n",
    "                    new_row.append(row[j][2:])\n",
    "                    \n",
    "            elif (len(row[j]) == 5): # five digits. Possible when there is a 100 and two digit number\n",
    "                \n",
    "                if row[j][0:3] == '100': # if there is leading 100 \n",
    "                    new_row.append('100')\n",
    "                    new_row.append(row[j][3:])\n",
    "                else:\n",
    "                    new_row.append(row[j][:2]) # if there is trailing 100\n",
    "                    new_row.append('100')\n",
    "                    \n",
    "            elif (len(row[j]) == 2): # if only 2 digits, just split into 2 seperate numbers and add\n",
    "                new_row.append(row[j][:1])\n",
    "                new_row.append(row[j][1:])\n",
    "        else: #else just add the existing values\n",
    "            new_row.append(row[j])\n",
    "            \n",
    "    return new_row # return the new row"
   ]
  },
  {
   "cell_type": "markdown",
   "metadata": {
    "collapsed": true
   },
   "source": [
    "The above function is a helper function to seperate merged row pairs. We are going to apply this function in multiple situations.\n",
    "\n",
    "The function arguments are\n",
    "1. The actual row as a list\n",
    "2. The position of merged row in the actual row\n",
    "\n",
    "The function simply adds all rows except the merged rorw directly to the new row (new_row variable).\n",
    "\n",
    "More the merged row, it cahcks the following 'if' conditions and acts according to it.\n",
    "\n",
    "* if the value has 4 digits and there is no 100 in it, it splits the value into two halves.\n",
    "* if the value has 4 digits and there is a trailing 100, it takes the first digit as a single number and 100 as second\n",
    "* if the value has 4 digits and there is a leading 100, it takes the last digit as a single number and 100 as the first number\n",
    "* if the length is 6, then the numbers are two 100s\n",
    "* if the length is 3 and there is a - in it, it sperates the - and take the other digits as a single value\n",
    "* if it is 3 digits without a -, then we use a correlative approach. it splits the number into two so that the difference between them is least\n",
    "* if there is 5 digits, it checks for leading 100 or trailing 100 and seperates according to it\n",
    "* if it is just two digits, just make it two halves.\n"
   ]
  },
  {
   "cell_type": "markdown",
   "metadata": {},
   "source": [
    "Now we apply this to table 1, and we use pandas (pandas, 2017) for converting the table in list format to a dataframe (Williems k., 2018)."
   ]
  },
  {
   "cell_type": "code",
   "execution_count": null,
   "metadata": {
    "collapsed": true
   },
   "outputs": [],
   "source": [
    "table1 = [] # initialising an empty table1 list\n",
    "for row in tables[0][5:-2]:  \n",
    "    table1.append(helperfun1(row, 4)) # creating the corrected rows in table1 using the helperfun1 function (Here column 4 is merged)\n",
    "table1f = pd.DataFrame(table1) # converting it to a pandas daraframe"
   ]
  },
  {
   "cell_type": "code",
   "execution_count": null,
   "metadata": {},
   "outputs": [],
   "source": [
    "table1f[:5] # seeing the data frame"
   ]
  },
  {
   "cell_type": "markdown",
   "metadata": {},
   "source": [
    "Doing the same for the table 2 and 3. But the merged column can be different"
   ]
  },
  {
   "cell_type": "code",
   "execution_count": null,
   "metadata": {
    "collapsed": true
   },
   "outputs": [],
   "source": [
    "table2 = [] # initialising empty row\n",
    "for row in tables[1][5:-2]: # for each row from 5th to second last\n",
    "    table2.append(helperfun1(row, 5)) # here the merged row is 5th\n",
    "table2f = pd.DataFrame(table2) # converting to dataframe"
   ]
  },
  {
   "cell_type": "code",
   "execution_count": null,
   "metadata": {},
   "outputs": [],
   "source": [
    "table2f[:5] # seeing the data frame"
   ]
  },
  {
   "cell_type": "code",
   "execution_count": null,
   "metadata": {
    "collapsed": true
   },
   "outputs": [],
   "source": [
    "table3 = [] # initialising empty row\n",
    "for row in tables[2][5:-2]: # for each row from 5th to second last\n",
    "    table3.append(helperfun1(row, 4)) # here the merged row is 4th\n",
    "table3f = pd.DataFrame(table3) # converting to dataframe"
   ]
  },
  {
   "cell_type": "code",
   "execution_count": null,
   "metadata": {},
   "outputs": [],
   "source": [
    "table3f[:5] # seeing the data frame"
   ]
  },
  {
   "cell_type": "markdown",
   "metadata": {
    "collapsed": true
   },
   "source": [
    "The fourth table has a lot of issues. We can check it again."
   ]
  },
  {
   "cell_type": "code",
   "execution_count": null,
   "metadata": {},
   "outputs": [],
   "source": [
    "for row in tables[3][5:19]: # selecting only the rows containing required parts\n",
    "    print(row)"
   ]
  },
  {
   "cell_type": "markdown",
   "metadata": {},
   "source": [
    "As we see, \n",
    "\n",
    "* the country name is merged with 3 other columns.\n",
    "* the next number is a combination of 6 columns\n",
    "* columns 15, 16, 17 are merged together\n",
    "* columns 19 and 20 are merged together\n",
    "\n",
    "For seperating the merged rows, we need two functions. One for merged 3 rows and one for merged 2 rows. As we have to define function before our main code, writing the functions below. These will be used later in the main code."
   ]
  },
  {
   "cell_type": "code",
   "execution_count": null,
   "metadata": {
    "collapsed": true
   },
   "outputs": [],
   "source": [
    "# This function splits merged 2 numbers\n",
    "# Although it doesnt cover all the use cases in a general scenario, it covers everything in our example.\n",
    "def helperfun2(ele, new_row):\n",
    "    \n",
    "    if '–' in ele: # if there is a -  * In all our data, there is only trailing -. so only this case is considered\n",
    "        new_row.append(ele.strip('–')) # ass the '-' removed part first\n",
    "        new_row.append('–') # and then add -\n",
    "    else:\n",
    "        new_row.append(ele[:len(ele)//2]) # In all other conditions, just split into two halves. # this holds good for our data\n",
    "        new_row.append(ele[len(ele)//2:])\n",
    "        \n",
    "    return new_row # return the new row\n",
    "\n"
   ]
  },
  {
   "cell_type": "markdown",
   "metadata": {},
   "source": [
    "This function is for spliting 2 merged values.It takes a merged value and the row list two which the values to be added\n",
    "\n",
    "* if there is a '-' in the value, it put the number part first and then places a -. If we llok at our data, we can see that this holds good for all our values\n",
    "* else it simply splits the data equally into 2 halves."
   ]
  },
  {
   "cell_type": "code",
   "execution_count": null,
   "metadata": {
    "collapsed": true
   },
   "outputs": [],
   "source": [
    "# This function splits merged 3 numbers.\n",
    "# Although it doesnt cover all the use cases in a general scenario, it covers everything in our example.\n",
    "def helperfun3(num, new_row):\n",
    "    \n",
    "    # The below code splits 3 two digit numbers. Although this is generally not correct, it is useable for our case\n",
    "    if len(num) == 6: # if there are 6 digits in the number\n",
    "        new_row.append(num[0:2]) # splits each two digit numbers \n",
    "        new_row.append(num[2:4]) \n",
    "        new_row.append(num[4:6])\n",
    "        \n",
    "    elif len(num) == 9: #if there are 9 digits, the only possible case is 100,100,100\n",
    "        for i in range(3): # add 3 100s\n",
    "            new_row.append(100)\n",
    "            \n",
    "    elif len(num) == 7: # if there are 7 digits, it should contain a 100. Also we dont have any with 2 and only 2 100s\n",
    "        \n",
    "        if num[0:3] == '100': #if the 100 is first\n",
    "            new_row.append(100) \n",
    "            new_row.append(num[3:5])\n",
    "            new_row.append(num[5:7])\n",
    "            \n",
    "        elif num[-3:] == '100': #if the 100 is last\n",
    "            new_row.append(num[0:2])\n",
    "            new_row.append(num[2:4])\n",
    "            new_row.append(100)\n",
    "        \n",
    "        else: # if the 100 is at middle\n",
    "            li = num.split('100')\n",
    "            new_row.append(li[0])\n",
    "            new_row.append(\"100\")\n",
    "            new_row.append(li[1])\n",
    "            \n",
    "    elif '–' in num: #if it contains a hash sign\n",
    "        \n",
    "        # visibily there is only one row which contains a dash, so the function is written for that row\n",
    "        new_row.append('–')\n",
    "        new_row.append(num.strip('–'))\n",
    "        new_row.append('–')\n",
    "        \n",
    "    return new_row # returning the new row"
   ]
  },
  {
   "cell_type": "markdown",
   "metadata": {},
   "source": [
    "The above function is for splitting 3 merged numbers.\n",
    "\n",
    "It accepts the merged number and the new row list\n",
    "\n",
    "* if the length of the number is 6, then it is split into 3 two digit numbers. Although this is generally not correct, it is useable for our case\n",
    "* if the length is 9, then 3 100s are added to the new row\n",
    "* if there are 7 digits, it should contain a 100. (Seeing the data, we dont have any with 2 and only 2 100s). so we just find the position of 100 first. The remaining can be split into two 2 digit numbers.\n",
    "* if the value contains a '-' : visibily there is only one case with situation for which we we have to put the number in middle column and put the '-' both after and before it\n",
    "\n",
    "\n",
    "Note that these functions are used on multiple occassions in the main code (code resusing). The main code is given below."
   ]
  },
  {
   "cell_type": "code",
   "execution_count": null,
   "metadata": {
    "collapsed": true
   },
   "outputs": [],
   "source": [
    "table4 = [] # variable for table in the 4th page\n",
    "\n",
    "for row in tables[-1][5:19]: #for each rows in last table\n",
    "    new_row = [] #for current row \n",
    "    for j in range(len(row)): # for each elements in the row\n",
    "\n",
    "        if j == 0: # if it is first element\n",
    "            new_row.append(re.findall(r'[^-x\\d–]+', row[j])[0]) # seperating country name with re\n",
    "            num = re.findall(r'[\\d–]+', row[j]) # adds the country name path as first element of the row\n",
    "            new_row = helperfun3(num[0], new_row) # calls the helper funtion (same function is used at different places)\n",
    "            \n",
    "        elif j == 1: # if j is the second element of the read row\n",
    "            \n",
    "            if '–' in row[j]: # if there is a '-'. This is an exceptional case\n",
    "                first = row[j][:-5] # the first merged 3 numbebrs are seperated...\n",
    "                new_row = helperfun3(first, new_row) # using helper fun\n",
    "                new_row.append('–') # then the - is added.\n",
    "                new_row.append(row[j][-4:-2]) # all last three values in all has 2 digits. using this pattern, last values are seperated\n",
    "                new_row.append(row[j][-2:])\n",
    "            else:\n",
    "                first = row[j][:-6] # except the exception case, all folllows a pattern that, last 3 merged values are 2 digits. Using this fisr part is seperated.. \n",
    "                new_row = helperfun3(first, new_row) # ... and first part is partitioned into correct 3 numbers using helper fun\n",
    "                new_row.append(row[j][-6:-4]) # The last 3 numbers are ll 2 digits. So the 6 digits are seperated into 3 numbers\n",
    "                new_row.append(row[j][-4:-2])\n",
    "                new_row.append(row[j][-2:])\n",
    "                \n",
    "        elif j in [2, 3, 4, 5, 6, 8, 10, 11]: # All these column numbers are correctly parsed by the pdftable. So no need to make any change\n",
    "            new_row.append(row[j])\n",
    "         \n",
    "        # the column 8 (index 7) contains 3 merged values. But it is very different to the similar other scenarios. So we have to write seperate code\n",
    "        # visibily there is no 100s in the merged values\n",
    "        elif j == 7:\n",
    "            if len(row[j]) == 3: # if it is only 3 digits, just make three different numbers\n",
    "                new_row.append(row[j][0])\n",
    "                new_row.append(row[j][1])\n",
    "                new_row.append(row[j][2])\n",
    "                \n",
    "            elif row[j][0] == '0': # if there is a leading 0, sperate it first and seperate the rest using helperfun2\n",
    "                    new_row.append(0)\n",
    "                    new_row = helperfun2(row[j][1:], new_row)\n",
    "                    \n",
    "            elif ('–' in row[j]) and (len(row[j]) == 5): # if the length is 5 and contains '-' \n",
    "                new_row.append(row[j][0:2])\n",
    "                new_row.append(row[j][2:4])\n",
    "                new_row.append('–') # this case happens only in one exceptional case and is visible. So we dont need to try all cases to find the position of -\n",
    "            \n",
    "            elif len(row[j]) == 6: # if the length is 6, as there is no 100, simply split into 3 two digit numbers\n",
    "                new_row.append(row[j][0:2])\n",
    "                new_row.append(row[j][2:4])\n",
    "                new_row.append(row[j][4:6])\n",
    "                \n",
    "            # this is an exceptional case. We dont have any way to predict how the number is. So we use data from obtained using pdf2txt.py method,\n",
    "            # and we can manually find the splits. \n",
    "            # the process is shown below\n",
    "            # The split is as dd,d,dd. So we made the below code accordingly\n",
    "            elif len(row[j]) == 5:\n",
    "                new_row.append(row[j][0:2])\n",
    "                new_row.append(row[j][2:3])\n",
    "                new_row.append(row[j][3:5])\n",
    "            \n",
    "        elif j == 9: # this is a merge between two numbers\n",
    "            # there is no - number and no 100\n",
    "            new_row = helperfun2(row[j], new_row) # using helperfun2 for extraction\n",
    "    table4.append(new_row)"
   ]
  },
  {
   "cell_type": "markdown",
   "metadata": {},
   "source": [
    "In the above code, the required part of the last table is extracted first, ie only the rows with country names.\n",
    "\n",
    "In each row, each column is analysed. \n",
    "\n",
    "As the first column is a merge between the country name and the three succedeing values:\n",
    "    The country name is extracted first using python re.\n",
    "    The remaining three digits can be sepetated and added using helperfun3 defined above\n",
    "\n",
    "The second column is a merge between 6 numbers. All the last 3 numbers are 2 digits, except in one case which contains a '-'.       The value containing '-' is porcessed as an exceptional case first. \n",
    "    For other values, the value is spit into 2 halves first as 3 values in each half and then sperated thesese halves using the     helperfun3\n",
    "    Since all the last three values are 2 digits, we can easily seperate them\n",
    "\n",
    "The columns with indices 2, 3, 4, 5, 6, 8, 10, 11 are parsed correctly. So they dont need any editing\n",
    "\n",
    "The j =9 case can be extracted using helperfun2.\n",
    "\n",
    "The column 8 (index 7) contains 3 merged values. But it is very different to the similar other scenarios. So we have to write seperate code. Visibily there is no 100s in the merged values.\n",
    "    If it is only three digit, we just split them as 3 different numbers\n",
    "    If the first value is a 0, we make it as a number and split rest using helperfun2\n",
    "    If there are 5 digits and there is a -, it happens only in one case and in that case the '-' is at the first place. So we split the other part equally into 2 numbers\n",
    "    If there are 6 digits, and as there is no 100, we simply split into 3 two digit numbers.\n",
    "    Now there is one exceptional case in which we have 5 digits and we dont have any clue about how to split it. So we use the text extracted using pdf2txt.py as below\n",
    "    \n",
    "    "
   ]
  },
  {
   "cell_type": "markdown",
   "metadata": {},
   "source": [
    "The easiest way to find the position of the required number is to search using a country name near it"
   ]
  },
  {
   "cell_type": "code",
   "execution_count": null,
   "metadata": {},
   "outputs": [],
   "source": [
    "# searching for Uganda\n",
    "for a in linelist:\n",
    "    if \"Uganda\" in a:\n",
    "        print(linelist.index(a))"
   ]
  },
  {
   "cell_type": "markdown",
   "metadata": {},
   "source": [
    "So it should be somewhere after 4622. Using the trial and error method we can easily get the below part containing the required information. Also we know all the surrounding number of these numbers."
   ]
  },
  {
   "cell_type": "code",
   "execution_count": null,
   "metadata": {},
   "outputs": [],
   "source": [
    "linelist[4932:4948]"
   ]
  },
  {
   "cell_type": "markdown",
   "metadata": {},
   "source": [
    "Comparing the above data with our table, we can see that this is the 17th column (index 16). And we can see a 7 there in our required position. So we can reach the conclusion that we have to split 7 as a seperate number, which means the split will be as (dd, d, dd). We write the code manualy to split it accordingly."
   ]
  },
  {
   "cell_type": "markdown",
   "metadata": {},
   "source": [
    "Now we have completed the 4th table. We make it a DataFrame"
   ]
  },
  {
   "cell_type": "code",
   "execution_count": null,
   "metadata": {
    "collapsed": true
   },
   "outputs": [],
   "source": [
    "table4f = pd.DataFrame(table4) # converting to DataFrame"
   ]
  },
  {
   "cell_type": "code",
   "execution_count": null,
   "metadata": {},
   "outputs": [],
   "source": [
    "table4f # printing"
   ]
  },
  {
   "cell_type": "markdown",
   "metadata": {},
   "source": [
    "### 4.2 Combining Tables to Form the Complete Table\n",
    "\n",
    "Now we can concatenate all the datafrmaes to form the complete table (Williems, 2018)"
   ]
  },
  {
   "cell_type": "code",
   "execution_count": null,
   "metadata": {
    "collapsed": true
   },
   "outputs": [],
   "source": [
    "frames = [table1f, table2f, table3f, table4f ] # creating an list of all the table dataframes\n",
    "combined = pd.concat(frames) # using pandas concat method to form the combined dataframe"
   ]
  },
  {
   "cell_type": "markdown",
   "metadata": {},
   "source": [
    "We can just see the first few lines"
   ]
  },
  {
   "cell_type": "code",
   "execution_count": null,
   "metadata": {},
   "outputs": [],
   "source": [
    "# showing first 5 lines of the dataframe\n",
    "combined[:5]"
   ]
  },
  {
   "cell_type": "markdown",
   "metadata": {},
   "source": [
    "The name of the columns has to be changed as [Country Name,0,1,....,21]. For this we can use the below code"
   ]
  },
  {
   "cell_type": "code",
   "execution_count": null,
   "metadata": {
    "collapsed": true
   },
   "outputs": [],
   "source": [
    "# renaming the columns\n",
    "combined.columns = ['Country Name'] + list(range(0,22))"
   ]
  },
  {
   "cell_type": "markdown",
   "metadata": {},
   "source": [
    "As shown above, the dataframe contains '-' and trailing x with some values. We have to remove them. As there is no country names starting or ending with 'x' or '-', we can simply strip these from all values to remove them. Also we can strip any spaces."
   ]
  },
  {
   "cell_type": "code",
   "execution_count": null,
   "metadata": {
    "collapsed": true
   },
   "outputs": [],
   "source": [
    "# converting all values in dataframe to string, stripping 'x', '-', and blank spaces\n",
    "combined =combined.applymap(str).applymap(lambda x: x.strip('x')).applymap(lambda x: x.strip('–')).applymap(lambda x: x.strip(' '))"
   ]
  },
  {
   "cell_type": "markdown",
   "metadata": {},
   "source": [
    "Aslo we have to reset the row index."
   ]
  },
  {
   "cell_type": "code",
   "execution_count": null,
   "metadata": {
    "collapsed": true
   },
   "outputs": [],
   "source": [
    "combined.reset_index(drop=True, inplace=True) # resetting row index"
   ]
  },
  {
   "cell_type": "markdown",
   "metadata": {},
   "source": [
    "Now we can just print it to see"
   ]
  },
  {
   "cell_type": "code",
   "execution_count": null,
   "metadata": {},
   "outputs": [],
   "source": [
    "print(combined) # printing the final dataframe"
   ]
  },
  {
   "cell_type": "markdown",
   "metadata": {},
   "source": [
    "## 5 Writing to File\n",
    "Now writing the file to health.csv file"
   ]
  },
  {
   "cell_type": "code",
   "execution_count": null,
   "metadata": {
    "collapsed": true
   },
   "outputs": [],
   "source": [
    "combined.to_csv(\"health.csv\", index=False) # writing to file"
   ]
  },
  {
   "cell_type": "markdown",
   "metadata": {
    "collapsed": true
   },
   "source": [
    "## 6 Summary"
   ]
  },
  {
   "cell_type": "markdown",
   "metadata": {},
   "source": [
    "In order to extract the data from a pdf file we used 2 methods, using pdftables and using an external file pdf2txt.py. The second method is just for reference in case og ambiguities.\n",
    "\n",
    "There where 4 tables as there were 4 pages in the document. We cleaned the problems such as merged rows and unnecessary symbnols such as '-' and 'x' sing python code and then we combined all 4 tables. The pandas library is used for various purposes throughout the process.\n",
    "\n",
    "The combined table is then saved as a csv file."
   ]
  },
  {
   "cell_type": "markdown",
   "metadata": {},
   "source": [
    "## 7 Referneces"
   ]
  },
  {
   "cell_type": "markdown",
   "metadata": {},
   "source": [
    "- Hopkinson I. (2013, July 29). *pdftables – a Python library for getting tables out of PDF files*. Retrieved from https://scraperwiki.com/2013/07/pdftables-a-python-library-for-getting-tables-out-of-pdf-files/\n",
    "- PDFMiner. (2016). Retrieved from https://github.com/euske/pdfminer\n",
    "- Pandas. (2017). Retrieved from https://pandas.pydata.org/\n",
    "- Williems K. (2018, February 23) *Pandas Tutorial: DataFrames in Python*. Retrieved from https://www.datacamp.com/community/tutorials/pandas-tutorial-dataframe-python\n",
    "- UnixUser.org (2014, March 24). *PDFMiner*. Retrieved from https://www.unixuser.org/~euske/python/pdfminer/"
   ]
  },
  {
   "cell_type": "code",
   "execution_count": null,
   "metadata": {
    "collapsed": true
   },
   "outputs": [],
   "source": []
  }
 ],
 "metadata": {
  "kernelspec": {
   "display_name": "Python 3",
   "language": "python",
   "name": "python3"
  },
  "language_info": {
   "codemirror_mode": {
    "name": "ipython",
    "version": 3
   },
   "file_extension": ".py",
   "mimetype": "text/x-python",
   "name": "python",
   "nbconvert_exporter": "python",
   "pygments_lexer": "ipython3",
   "version": "3.6.1"
  }
 },
 "nbformat": 4,
 "nbformat_minor": 2
}
