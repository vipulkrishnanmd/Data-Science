{
 "cells": [
  {
   "cell_type": "markdown",
   "metadata": {},
   "source": [
    "# FIT5196 Assessment 1 Task 3 Convert XML to JSON\n",
    "\n",
    "#### Student Name: Vipul Krishnan M.D.\n",
    "#### Student ID: 28104641\n",
    "\n",
    "Date: 02/04/2018\n",
    "\n",
    "Version: 1.0\n",
    "\n",
    "Environment: Python 3.6.0 and Anaconda 4.3.0 (64-bit)\n",
    "\n",
    "Libraries used:\n",
    "* re (version 2.2.1)\n",
    "* json (version 2.0.9)"
   ]
  },
  {
   "cell_type": "markdown",
   "metadata": {},
   "source": [
    "## 1. Introduction\n",
    "\n",
    "This task focuses on converting the Austrailian Sport Thesaurus stored in an XML file (\"australian-sport-thesaurus-student.xml\") into a JSON file.\n",
    "\n",
    "* the data has to be correctly extracted\n",
    "* while extracting the thesaurus from the XML file, existing Python Packages that are written to parse XML files (e.g.,  Beautiful-soup, lxml and ElementTree) must not be used. \n",
    "* Python packages, like json, can be used to save the extracted thesaurus;\n",
    "* the JSON data should be saved in a file named as \"sport.dat\";\n",
    "* the input file must only be \"australian-sport-thesaurus-student.xml\"."
   ]
  },
  {
   "cell_type": "markdown",
   "metadata": {},
   "source": [
    "## 2. Importing Libraries"
   ]
  },
  {
   "cell_type": "code",
   "execution_count": null,
   "metadata": {
    "collapsed": true
   },
   "outputs": [],
   "source": [
    "import re\n",
    "import json"
   ]
  },
  {
   "cell_type": "markdown",
   "metadata": {},
   "source": [
    "## 3. Reading Data from File\n",
    "\n",
    "The xml data is in the australian-sport-thesaurus-student.xml file. We can use the open() and read() method to read the data."
   ]
  },
  {
   "cell_type": "code",
   "execution_count": null,
   "metadata": {
    "collapsed": true
   },
   "outputs": [],
   "source": [
    "with open('australian-sport-thesaurus-student.xml', 'r', encoding=\"utf8\") as myfile:\n",
    "    data=myfile.read() # reading data from file and string it as 'data' variable"
   ]
  },
  {
   "cell_type": "markdown",
   "metadata": {},
   "source": [
    "## 4. Converting XML to JSON"
   ]
  },
  {
   "cell_type": "markdown",
   "metadata": {},
   "source": [
    "The XML consists of elements. All elements have starting and ending tags. An element can contain a value or other elements (Child elements). All XML has a root element which encloses all the other elements (w3schools.com, 2018).\n",
    "\n",
    "JSON, on the other hand, has key value pairs. Value can be a simple string or another JSON object. JSON also supports arrays.\n",
    "(w3schools.com, 2018)\n",
    "\n",
    "Suppose if we have a simple xml like <a>x</a>, our task is to convert it as key value pair like \"a\":\"x\". The tag name becomes the key and the value in between the tags becomes the value.\n",
    "\n",
    "For this tasks we first extract all tag names and values from the xml. For this we use regular expression as below.\n"
   ]
  },
  {
   "cell_type": "code",
   "execution_count": null,
   "metadata": {
    "collapsed": true
   },
   "outputs": [],
   "source": [
    "tags = re.findall(r'<[^<^>]+>',data) # finds all text between '< and '>'. ie the tag values, including closing tags\n",
    "\n",
    "for i in range(0,len(tags)):\n",
    "    tags[i] = tags[i].strip('<').strip('>') # removes '<' and '>' from all the values\n",
    "\n",
    "tags = tags[1:] # Removing the first tag which is just the prolog."
   ]
  },
  {
   "cell_type": "code",
   "execution_count": null,
   "metadata": {
    "collapsed": true
   },
   "outputs": [],
   "source": [
    "values = re.findall(r'<[^<^>^/]+>[^<^>]+</',data) # Find all substrings which has an open tag and a closing tag enclosed\n",
    "\n",
    "for i in range(0,len(values)):\n",
    "    values[i] = re.findall(r'>[^<^>]+</',values[i])[0] # for each extracted strings, extract the string starting with '>' and '</'\n",
    "    values[i] = values[i].strip('/').strip('>').strip('<').replace('\"','\\\\\"').replace('\\n', '\\\\n') # strip off '<','>' and '/' to get the values only\n",
    "    "
   ]
  },
  {
   "cell_type": "markdown",
   "metadata": {},
   "source": [
    "The JSON structure is very similar to the structure of a python dictionary. SO it would be easy to store the data in a dictionary first and then write it as a JSON file.\n",
    "\n",
    "We need a function for this. The function and its explonation is below."
   ]
  },
  {
   "cell_type": "code",
   "execution_count": null,
   "metadata": {
    "collapsed": true
   },
   "outputs": [],
   "source": [
    "j = 0 # we define a global variable which is common for all recursive calls\n",
    "\n",
    "def xmltodictionary(taglist): # Argument is the list of tags \n",
    "    \n",
    "    stack = [] # we initialize a stack\n",
    "    global j # declare the variable 'j' as global to access it (its already initialized before function)\n",
    "    tname = taglist[0] # initialize tname as the first tag name. \n",
    "    \n",
    "    if len(taglist) == 2: # if it is not a  parent element (ie only a single string as value)\n",
    "        d = {} # initialize a directory\n",
    "        d[taglist[0]] = values[j] # put tname as key and value as value\n",
    "        j = j+1 # increase the global variable j (which curresponds to the position of the next value to be added)\n",
    "        return d # return the dictionary\n",
    "    \n",
    "    else: # else\n",
    "        d = {} # declare an empty dictionary\n",
    "        gd = {} # this dictinonary is used as the value of the complex element\n",
    "        init = 1 # init represents the starting position in array of the current child element\n",
    "        stack.append(taglist[1]) # add first tagname in the list to stack\n",
    "        i = 2 # initialize i as 2\n",
    "        \n",
    "        # the below while loop seperates each child element in the root tag of the given xml\n",
    "        # it then recursively calls the function to process each child elements\n",
    "        \n",
    "        while (i < len(taglist)-1): # for each tags from position 2 to the second last \n",
    "            \n",
    "            if '/'  == taglist[i][0]: # if it is a closing tag\n",
    "                stack.pop() # then pop out the curresponding opening tag from the stack\n",
    "                \n",
    "                if len(stack) == 0: # if stack becomes empty, it means that a child element ends at this position\n",
    "                    nd = xmltodictionary(taglist[init:i+1]) # we call the function recursively for that child element\n",
    "                    \n",
    "                    # the below loop checks if the tag name is repeating. In that case we have to use a list as JSON suppor list \n",
    "                    for k in nd.keys(): # for each returned key \n",
    "                        \n",
    "                        if k not in gd.keys(): # it checks if the returned key is already returned previously.\n",
    "                            gd[k] = nd[k] # if not its a unique key, so it can stay as independent\n",
    "                        \n",
    "                        else: # if the key is already there...\n",
    "                            \n",
    "                            if isinstance(gd[k], list): # and the value is already a list..\n",
    "                                gd[k].append(nd[k]) # add the new value to the list\n",
    "                            \n",
    "                            else: # if it is currently a sinlge value..\n",
    "                                gd[k] = [gd[k], nd[k]] # make it a list by adding the new value too\n",
    "                \n",
    "                i = i+1 # increase the i value to get the next tag\n",
    "            \n",
    "            else: # if it is not the end of a child element...\n",
    "                stack.append(taglist[i]) # append the new tagname to stack\n",
    "                \n",
    "                if len(stack) == 1: # if it is the first tag of a child element..\n",
    "                    init = i # then note this position as the initial tagname\n",
    "                \n",
    "                i = i+1 # increase the i value to get the next tag\n",
    "            \n",
    "        d[tname] = gd # add key as tname and value as gd, which is dictionary constructed after processing child elements\n",
    "        return d # return the main dictionary"
   ]
  },
  {
   "cell_type": "markdown",
   "metadata": {},
   "source": [
    "The above function is highly commented, so that it would be easier to understand.\n",
    "\n",
    "Basically it uses a recursive function. Each function takes an XML structure and returns a dictionary as output in which there is only one key which is the tag name of the root element of the passed xml. The value would be a single string if the xml is a simple elements (ie contains no child elements), or else the value would be a dictionary which is obtained by recursively calling the function with each child element as parameters and merging up the returned dictionaries together. While merging, if there is same keys, it simply put the values together and make a list.\n",
    "\n",
    "Now we can call this function with our entire taglist"
   ]
  },
  {
   "cell_type": "code",
   "execution_count": null,
   "metadata": {
    "collapsed": true
   },
   "outputs": [],
   "source": [
    "j = 0; # to ensure the value starts taking from initial\n",
    "dictionary = xmltodictionary(tags) # calling the function and saving the data as a dictionary"
   ]
  },
  {
   "cell_type": "markdown",
   "metadata": {},
   "source": [
    "Now we have to convert this to JSON. As we are allowed to use python json package, the easiest way is to use json.dumps() method as below (Python, 2018). However in case this method is not permitted to use, I have created two manual functions to do the conversion. W will see the json.dumps method first."
   ]
  },
  {
   "cell_type": "code",
   "execution_count": null,
   "metadata": {},
   "outputs": [],
   "source": [
    "json.dumps(dictionary)"
   ]
  },
  {
   "cell_type": "markdown",
   "metadata": {},
   "source": [
    "This gives the standard JSON structure corresponding to our XML. However the the JSON in the given image has some differences.\n",
    "\n",
    "* The root key name is different\n",
    "* There is no key namely \"Term\". For example, instead of making like \"Terms\":{\"Term\":[{... it is briefed as \"Terms\":[{....\n",
    "* Irrespective of the number related terms, all the related terms are presented as an array. ie even if there is only one related term, it is presented as an array.\n",
    "* The order of the terms are different (However it is made clear in the forum that the order doesnt matter)\n",
    "\n",
    "So we have to make these changes. For that we can define the following funtion"
   ]
  },
  {
   "cell_type": "code",
   "execution_count": null,
   "metadata": {
    "collapsed": true
   },
   "outputs": [],
   "source": [
    "# This function changes structure of the dictionary to obtain JSON as in the image\n",
    "def correct_dict(dictionary):\n",
    "    \n",
    "    new_dictionary = {} # a new dictitonary for returning \n",
    "    \n",
    "    if not isinstance(dictionary, dict):\n",
    "        return dictionary # if the parameter is not a dictionary,just return it.\n",
    "    \n",
    "    for key in dictionary.keys(): # for each keys of the dictionary\n",
    "        \n",
    "        if key == \"Terms\": # if the key is \"Term\"\n",
    "            new_list = []\n",
    "            \n",
    "            for element in dictionary[key][\"Term\"]: # bypassing the key: \"Term\"\n",
    "                new_list.append(correct_dict(element)) # and making a new list which becomes the value for the key \"thesaurus\", while recursively calling the function for child elements\n",
    "                \n",
    "            new_dictionary[\"thesaurus\"] = new_list # changine the key name to \"thesaurus\" and adding the new list as value\n",
    "            \n",
    "        elif key == \"RelatedTerms\": # if the key is \"Related terms\"\n",
    "            \n",
    "            if not isinstance(dictionary[key][\"Term\"], list): # if the the terms are not present as a list\n",
    "                new_dictionary[key] = [correct_dict(dictionary[key][\"Term\"])] # make it a list, also bypass the key \"Term\", while recursively calling the function for child elements\n",
    "            \n",
    "            else:\n",
    "                new_dictionary[key] = correct_dict(dictionary[key][\"Term\"]) # else just bypass the key \"Term\", while recursively calling the function for child elements\n",
    "    \n",
    "        else:\n",
    "            new_dictionary[key] = correct_dict(dictionary[key]) # else just add as in the original dictionary, while recursively calling the function for child elements\n",
    "            \n",
    "    return new_dictionary\n",
    "        "
   ]
  },
  {
   "cell_type": "markdown",
   "metadata": {},
   "source": [
    "The above function recursively goes through the parameter dictionary and all its child dictionaries. \n",
    "\n",
    "If the key is \"Terms\", it simply renames it to \"thesaurus\"and also bypassess the succeeding key, which is \"Term\"\n",
    "\n",
    "If the key is \"RelatedTerms\", bypasses the succeeding key, which is \"Term\", and also makes sure that the value is a list\n",
    "\n",
    "Else it just add child elements as in the original dictionary.\n",
    "\n",
    "No we can call this function and make JSON string"
   ]
  },
  {
   "cell_type": "code",
   "execution_count": null,
   "metadata": {
    "collapsed": true
   },
   "outputs": [],
   "source": [
    "newdic = correct_dict(dictionary) # correcting the dictionary to match with the style in the image"
   ]
  },
  {
   "cell_type": "code",
   "execution_count": null,
   "metadata": {},
   "outputs": [],
   "source": [
    "json.dumps(newdic) # trying with json.dumps"
   ]
  },
  {
   "cell_type": "markdown",
   "metadata": {},
   "source": [
    "As mentioned above, if using json.dumps method is not permitted we can obtain the same by using the below manually made functions."
   ]
  },
  {
   "cell_type": "code",
   "execution_count": null,
   "metadata": {
    "collapsed": true
   },
   "outputs": [],
   "source": [
    "# this fuction converts a dictionay to JSON formatted string\n",
    "def dicttostr(d):\n",
    "    st = ''\n",
    "    dk = d.keys()\n",
    "    st = st + \"{\"\n",
    "    for i in range(len(dk)):\n",
    "        k = list(dk)[i]\n",
    "        if isinstance(d[k], str): # if the value is string\n",
    "            st = st+\"\\\"\" + k + \"\\\":\\\"\" + d[k] + \"\\\"\" \n",
    "            if i != len(dk)-1:\n",
    "                st = st+\",\"\n",
    "        elif isinstance(d[k], list): # if the value is a list\n",
    "            st = st+\"\\\"\" + k + \"\\\":\" + listtostr(d[k]) \n",
    "            if i != len(dk)-1:\n",
    "                st = st+\",\"\n",
    "        else:\n",
    "            st = st+\"\\\"\" + k + \"\\\":\" + dicttostr(d[k]) \n",
    "            if i != len(dk)-1:\n",
    "                st = st+\",\"\n",
    "    st = st + '}'\n",
    "    return st\n",
    "\n",
    "# this function converts a list to string representation as in json format\n",
    "def listtostr(l):\n",
    "    st = '['\n",
    "    for i in range(len(l)):\n",
    "        if isinstance(l[i], str): # if the element is a string\n",
    "            st = st + \"\\\"\" + l[i] + \"\\\"\"\n",
    "            if i != len(l)-1:\n",
    "                st = st + ','\n",
    "        elif isinstance(l[i], list): # if the element is a list\n",
    "            st = st + listtostr(l[i])\n",
    "            if i != len(l)-1:\n",
    "                st = st + ','\n",
    "        else:\n",
    "            st = st + dicttostr(l[i]) # if the lemenet is a dictionary\n",
    "            if i != len(l)-1:\n",
    "                st = st + ','\n",
    "    st = st + ']'\n",
    "    return st\n",
    "   "
   ]
  },
  {
   "cell_type": "code",
   "execution_count": null,
   "metadata": {},
   "outputs": [],
   "source": [
    "dicttostr(newdic) # printing using the manual methods"
   ]
  },
  {
   "cell_type": "markdown",
   "metadata": {},
   "source": [
    "but as the json.dumps() function is more efficient and fast, we can use this one.\n",
    "\n",
    "Now we need to write it to file. We can use the write() method for this."
   ]
  },
  {
   "cell_type": "code",
   "execution_count": null,
   "metadata": {},
   "outputs": [],
   "source": [
    "file = open('sport.dat','w', encoding=\"utf-8\") # creating / opening the file for writing\n",
    "file.write(json.dumps(newdic)) # writing the data to file"
   ]
  },
  {
   "cell_type": "markdown",
   "metadata": {},
   "source": [
    "## 5. Summary\n",
    "\n",
    "We have successfully converted the xml to json using the below steps\n",
    "\n",
    "* read the xml data and seperated the tags values using python re\n",
    "* using a recursive function, a dictionary is created from tags and values list which currespinds to the xml data\n",
    "* using a recursive function, the structure of the dictionary is changed to match with the JSON fomrat in the given image\n",
    "* the dictionary is converted to json. we either use json.dumps() method or a manually writtten method. \n",
    "* the json data is written in sport.dat file"
   ]
  },
  {
   "cell_type": "markdown",
   "metadata": {},
   "source": [
    "## 6. References"
   ]
  },
  {
   "cell_type": "markdown",
   "metadata": {
    "collapsed": true
   },
   "source": [
    "- W3Schools.com. (2018). *XML Tutorial*. Retrieved from https://www.w3schools.com/xml/default.asp\n",
    "- W3Schools.com. (2018). *JSON Tutorial*. Retrieved from https://www.w3schools.com/js/js_json_intro.asp\n",
    "- Python Software Foundation. (2018). *JSON encoder and decoder (Documentation)*. Retrieved from https://docs.python.org/2/library/json.html\n",
    "\n",
    "\n"
   ]
  },
  {
   "cell_type": "code",
   "execution_count": null,
   "metadata": {
    "collapsed": true
   },
   "outputs": [],
   "source": []
  }
 ],
 "metadata": {
  "kernelspec": {
   "display_name": "Python 3",
   "language": "python",
   "name": "python3"
  },
  "language_info": {
   "codemirror_mode": {
    "name": "ipython",
    "version": 3
   },
   "file_extension": ".py",
   "mimetype": "text/x-python",
   "name": "python",
   "nbconvert_exporter": "python",
   "pygments_lexer": "ipython3",
   "version": "3.6.1"
  }
 },
 "nbformat": 4,
 "nbformat_minor": 2
}
